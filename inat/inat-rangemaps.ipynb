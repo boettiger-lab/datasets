{
 "cells": [
  {
   "cell_type": "code",
   "execution_count": 1,
   "id": "cc71a996-3743-4355-8f9b-9c5d9c84c6b8",
   "metadata": {},
   "outputs": [],
   "source": [
    "from cng.utils import *\n",
    "\n",
    "import ibis\n",
    "from ibis import _\n",
    "\n",
    "con = ibis.duckdb.connect(extensions = [\"spatial\", \"h3\"])\n",
    "set_secrets(con)\n",
    "duckdb_install_h3()\n"
   ]
  },
  {
   "cell_type": "code",
   "execution_count": 2,
   "id": "50b8640a-5c68-4dfc-9ed5-f7cd71a3eb40",
   "metadata": {},
   "outputs": [],
   "source": [
    "taxa = \"Fungi\"\n",
    "gpkg = f\"/home/jovyan/nvme/public-inat/iNaturalist_geomodel_{taxa}.gpkg\""
   ]
  },
  {
   "cell_type": "code",
   "execution_count": 3,
   "id": "2b6ce7a0-b05a-4751-8298-b1fd48d5a48a",
   "metadata": {},
   "outputs": [
    {
     "data": {
      "text/html": [
       "<pre style=\"white-space:pre;overflow-x:auto;line-height:normal;font-family:Menlo,'DejaVu Sans Mono',consolas,'Courier New',monospace\">DatabaseTable: inat\n",
       "  taxon_id          int32\n",
       "  parent_taxon_id   int32\n",
       "  name              string\n",
       "  rank              string\n",
       "  iconic_taxon_id   int32\n",
       "  iconic_taxon_name string\n",
       "  geomodel_version  string\n",
       "  geom              geospatial:geometry\n",
       "</pre>\n"
      ],
      "text/plain": [
       "DatabaseTable: inat\n",
       "  taxon_id          int32\n",
       "  parent_taxon_id   int32\n",
       "  name              string\n",
       "  rank              string\n",
       "  iconic_taxon_id   int32\n",
       "  iconic_taxon_name string\n",
       "  geomodel_version  string\n",
       "  geom              geospatial:geometry"
      ]
     },
     "execution_count": 3,
     "metadata": {},
     "output_type": "execute_result"
    }
   ],
   "source": [
    "con.read_geo(gpkg, \"inat\")"
   ]
  },
  {
   "cell_type": "code",
   "execution_count": 13,
   "id": "baf97b77-6a5c-49cf-84b3-4d8bfe1a8d0f",
   "metadata": {},
   "outputs": [],
   "source": [
    "def geom_to_h3(con, \n",
    "               tbl, \n",
    "               cols = \"taxon_id, parent_taxon_id, name, rank, iconic_taxon_id, iconic_taxon_name\",\n",
    "               zoom = \"3\"):\n",
    "    \n",
    "    con.sql(f'''\n",
    "      WITH t2 AS (\n",
    "        WITH t1 AS (\n",
    "          SELECT {cols},  ST_Dump(geom) AS geom \n",
    "          FROM {tbl}\n",
    "        ) \n",
    "        SELECT {cols},\n",
    "              h3_polygon_wkt_to_cells_string(UNNEST(geom).geom, {zoom}) AS h{zoom}\n",
    "        FROM t1\n",
    "      )\n",
    "      SELECT {cols}, UNNEST(h{zoom}) AS h{zoom} FROM t2\n",
    "      ''')\n",
    "\n",
    "\n"
   ]
  },
  {
   "cell_type": "code",
   "execution_count": null,
   "id": "1b4e1d0a-d6a4-453d-b9e2-25636276c108",
   "metadata": {},
   "outputs": [],
   "source": [
    "geom_to_h3(con, \"inat\").to_parquet(f\"s3://public-inat/rangemaps/{taxa}.parquet\")"
   ]
  },
  {
   "cell_type": "code",
   "execution_count": 12,
   "id": "1302845b-9c22-409e-94db-b8c21d20cad6",
   "metadata": {},
   "outputs": [
    {
     "data": {
      "text/html": [
       "<pre style=\"white-space:pre;overflow-x:auto;line-height:normal;font-family:Menlo,'DejaVu Sans Mono',consolas,'Courier New',monospace\">DatabaseTable: ibis_read_parquet_xd74iymourbq7haknk5rggwbyu\n",
       "  taxon_id          int32\n",
       "  parent_taxon_id   int32\n",
       "  name              string\n",
       "  rank              string\n",
       "  iconic_taxon_id   int32\n",
       "  iconic_taxon_name string\n",
       "  h3                string\n",
       "</pre>\n"
      ],
      "text/plain": [
       "DatabaseTable: ibis_read_parquet_xd74iymourbq7haknk5rggwbyu\n",
       "  taxon_id          int32\n",
       "  parent_taxon_id   int32\n",
       "  name              string\n",
       "  rank              string\n",
       "  iconic_taxon_id   int32\n",
       "  iconic_taxon_name string\n",
       "  h3                string"
      ]
     },
     "execution_count": 12,
     "metadata": {},
     "output_type": "execute_result"
    }
   ],
   "source": [
    "con.read_parquet(\"https://minio.carlboettiger.info/public-inat/rangemaps/Fungi.parquet\")"
   ]
  },
  {
   "cell_type": "code",
   "execution_count": null,
   "id": "8d311d6a-97c9-4542-ae60-bf2737a882b3",
   "metadata": {},
   "outputs": [],
   "source": []
  },
  {
   "cell_type": "code",
   "execution_count": null,
   "id": "5f5d7411-34f5-4399-8e57-81514bd96301",
   "metadata": {},
   "outputs": [],
   "source": []
  }
 ],
 "metadata": {
  "kernelspec": {
   "display_name": "Python 3 (ipykernel)",
   "language": "python",
   "name": "python3"
  },
  "language_info": {
   "codemirror_mode": {
    "name": "ipython",
    "version": 3
   },
   "file_extension": ".py",
   "mimetype": "text/x-python",
   "name": "python",
   "nbconvert_exporter": "python",
   "pygments_lexer": "ipython3",
   "version": "3.12.8"
  }
 },
 "nbformat": 4,
 "nbformat_minor": 5
}
