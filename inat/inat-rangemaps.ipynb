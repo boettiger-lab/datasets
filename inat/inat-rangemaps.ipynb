{
 "cells": [
  {
   "cell_type": "code",
   "execution_count": 1,
   "id": "cc71a996-3743-4355-8f9b-9c5d9c84c6b8",
   "metadata": {},
   "outputs": [],
   "source": [
    "from cng.utils import *\n",
    "import ibis\n",
    "from ibis import _\n",
    "import pathlib\n",
    "\n",
    "con = ibis.duckdb.connect(extensions = [\"spatial\", \"h3\"])\n",
    "set_secrets(con)\n",
    "duckdb_install_h3()\n"
   ]
  },
  {
   "cell_type": "code",
   "execution_count": null,
   "id": "baf97b77-6a5c-49cf-84b3-4d8bfe1a8d0f",
   "metadata": {},
   "outputs": [],
   "source": [
    "def geom_to_h3(con, \n",
    "               taxa, \n",
    "               cols = \"taxon_id, parent_taxon_id, name, rank, iconic_taxon_id, iconic_taxon_name\",\n",
    "               zoom = \"4\"):\n",
    "\n",
    "    con.read_geo(gpkg, taxa) # FIXME allow overwrite\n",
    "\n",
    "    \n",
    "    con.sql(f'''\n",
    "      WITH t2 AS (\n",
    "        WITH t1 AS (\n",
    "          SELECT {cols},  ST_Dump(geom) AS geom \n",
    "          FROM {taxa}\n",
    "        ) \n",
    "        SELECT {cols},\n",
    "              h3_polygon_wkt_to_cells_string(UNNEST(geom).geom, {zoom}) AS h{zoom}\n",
    "        FROM t1\n",
    "      )\n",
    "      SELECT {cols}, UNNEST(h{zoom}) AS h{zoom} FROM t2\n",
    "      ''').to_parquet(f\"s3://public-inat/hex/{taxa}.parquet\")\n",
    "\n",
    "\n"
   ]
  },
  {
   "cell_type": "code",
   "execution_count": null,
   "id": "31279e08",
   "metadata": {},
   "outputs": [],
   "source": [
    "## assumes files have all been downladed from https://www.inaturalist.org/pages/range_maps\n",
    "files = pathlib.Path('~/nvme/public-inat').expanduser().rglob('*.gpkg')\n",
    "\n",
    "for f in files:\n",
    "    taxa = f.name.removesuffix('.gpkg').replace('iNaturalist_geomodel_', '')\n",
    "    gpkg = f\"/home/jovyan/nvme/public-inat/iNaturalist_geomodel_{taxa}.gpkg\"\n",
    "    taxon = taxa\n",
    "    con.read_geo(gpkg, taxa).to_parquet(f\"s3://public-inat/polygon/{taxa}.parquet\")\n"
   ]
  },
  {
   "cell_type": "code",
   "execution_count": null,
   "id": "d56bf728-cf00-450e-8a33-68d20201ff9e",
   "metadata": {},
   "outputs": [],
   "source": [
    "\n",
    "files = pathlib.Path('~/nvme/public-inat').expanduser().rglob('*.gpkg')\n",
    "\n",
    "for f in files:\n",
    "    taxa = f.name.removesuffix('.gpkg').replace('iNaturalist_geomodel_', '')\n",
    "    gpkg = f\"/home/jovyan/nvme/public-inat/iNaturalist_geomodel_{taxa}.gpkg\"\n",
    "    taxon = taxa\n",
    "    geom_to_h3(con, taxa)"
   ]
  },
  {
   "cell_type": "code",
   "execution_count": 2,
   "id": "f5a9d5ea-23b0-4e78-a39f-138e2b957b55",
   "metadata": {},
   "outputs": [
    {
     "data": {
      "text/html": [
       "<div>\n",
       "<style scoped>\n",
       "    .dataframe tbody tr th:only-of-type {\n",
       "        vertical-align: middle;\n",
       "    }\n",
       "\n",
       "    .dataframe tbody tr th {\n",
       "        vertical-align: top;\n",
       "    }\n",
       "\n",
       "    .dataframe thead th {\n",
       "        text-align: right;\n",
       "    }\n",
       "</style>\n",
       "<table border=\"1\" class=\"dataframe\">\n",
       "  <thead>\n",
       "    <tr style=\"text-align: right;\">\n",
       "      <th></th>\n",
       "      <th>taxon_id</th>\n",
       "      <th>parent_taxon_id</th>\n",
       "      <th>name</th>\n",
       "      <th>rank</th>\n",
       "      <th>iconic_taxon_id</th>\n",
       "      <th>iconic_taxon_name</th>\n",
       "      <th>h4</th>\n",
       "    </tr>\n",
       "  </thead>\n",
       "  <tbody>\n",
       "    <tr>\n",
       "      <th>0</th>\n",
       "      <td>47174</td>\n",
       "      <td>47175</td>\n",
       "      <td>Nelusetta ayraud</td>\n",
       "      <td>species</td>\n",
       "      <td>47178</td>\n",
       "      <td>Actinopterygii</td>\n",
       "      <td>84a700dffffffff</td>\n",
       "    </tr>\n",
       "    <tr>\n",
       "      <th>1</th>\n",
       "      <td>47174</td>\n",
       "      <td>47175</td>\n",
       "      <td>Nelusetta ayraud</td>\n",
       "      <td>species</td>\n",
       "      <td>47178</td>\n",
       "      <td>Actinopterygii</td>\n",
       "      <td>84a7047ffffffff</td>\n",
       "    </tr>\n",
       "    <tr>\n",
       "      <th>2</th>\n",
       "      <td>47174</td>\n",
       "      <td>47175</td>\n",
       "      <td>Nelusetta ayraud</td>\n",
       "      <td>species</td>\n",
       "      <td>47178</td>\n",
       "      <td>Actinopterygii</td>\n",
       "      <td>84a7041ffffffff</td>\n",
       "    </tr>\n",
       "    <tr>\n",
       "      <th>3</th>\n",
       "      <td>47174</td>\n",
       "      <td>47175</td>\n",
       "      <td>Nelusetta ayraud</td>\n",
       "      <td>species</td>\n",
       "      <td>47178</td>\n",
       "      <td>Actinopterygii</td>\n",
       "      <td>84a7007ffffffff</td>\n",
       "    </tr>\n",
       "    <tr>\n",
       "      <th>4</th>\n",
       "      <td>47174</td>\n",
       "      <td>47175</td>\n",
       "      <td>Nelusetta ayraud</td>\n",
       "      <td>species</td>\n",
       "      <td>47178</td>\n",
       "      <td>Actinopterygii</td>\n",
       "      <td>84c9931ffffffff</td>\n",
       "    </tr>\n",
       "  </tbody>\n",
       "</table>\n",
       "</div>"
      ],
      "text/plain": [
       "   taxon_id  parent_taxon_id              name     rank  iconic_taxon_id  \\\n",
       "0     47174            47175  Nelusetta ayraud  species            47178   \n",
       "1     47174            47175  Nelusetta ayraud  species            47178   \n",
       "2     47174            47175  Nelusetta ayraud  species            47178   \n",
       "3     47174            47175  Nelusetta ayraud  species            47178   \n",
       "4     47174            47175  Nelusetta ayraud  species            47178   \n",
       "\n",
       "  iconic_taxon_name               h4  \n",
       "0    Actinopterygii  84a700dffffffff  \n",
       "1    Actinopterygii  84a7047ffffffff  \n",
       "2    Actinopterygii  84a7041ffffffff  \n",
       "3    Actinopterygii  84a7007ffffffff  \n",
       "4    Actinopterygii  84c9931ffffffff  "
      ]
     },
     "execution_count": 2,
     "metadata": {},
     "output_type": "execute_result"
    }
   ],
   "source": [
    "# access all range-maps, h3\n",
    "con.read_parquet(\"s3://public-inat/hex/**\").head().execute()"
   ]
  },
  {
   "cell_type": "code",
   "execution_count": null,
   "id": "8c5d8180-236a-42c5-b271-54b186484902",
   "metadata": {},
   "outputs": [],
   "source": [
    "# Taxonomy\n",
    "\n"
   ]
  }
 ],
 "metadata": {
  "kernelspec": {
   "display_name": "Python 3 (ipykernel)",
   "language": "python",
   "name": "python3"
  },
  "language_info": {
   "codemirror_mode": {
    "name": "ipython",
    "version": 3
   },
   "file_extension": ".py",
   "mimetype": "text/x-python",
   "name": "python",
   "nbconvert_exporter": "python",
   "pygments_lexer": "ipython3",
   "version": "3.12.9"
  }
 },
 "nbformat": 4,
 "nbformat_minor": 5
}
