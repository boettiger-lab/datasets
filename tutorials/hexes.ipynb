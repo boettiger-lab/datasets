{
 "cells": [
  {
   "cell_type": "code",
   "execution_count": null,
   "id": "0ecce4e5",
   "metadata": {},
   "outputs": [],
   "source": [
    "import ibis\n",
    "from ibis import _\n",
    "import os\n",
    "from osgeo import gdal\n",
    "\n",
    "from cng.utils import *\n",
    "from cng.h3 import *\n",
    "\n",
    "con = ibis.duckdb.connect(extensions = [\"spatial\", \"h3\"])\n",
    "install_h3(con)\n",
    "\n",
    "\n",
    "set_secrets(con)"
   ]
  },
  {
   "cell_type": "code",
   "execution_count": 3,
   "id": "4f2b1027-2f4a-4bbc-8f90-e05e01f08dae",
   "metadata": {},
   "outputs": [],
   "source": [
    "import os\n",
    "os.environ['AWS_VIRTUAL_HOSTING']='FALSE'\n"
   ]
  },
  {
   "cell_type": "code",
   "execution_count": 6,
   "id": "50c82623",
   "metadata": {},
   "outputs": [],
   "source": [
    "# could use bash\n",
    "# ! gdalwarp -t_srs EPSG:4326 -of XYZ /vsicurl/https://data.source.coop/cboettig/mobi/species-richness-all/mobi-species-richness.tif mobi.txt"
   ]
  },
  {
   "cell_type": "code",
   "execution_count": 4,
   "id": "26ca6bc3",
   "metadata": {},
   "outputs": [
    {
     "name": "stderr",
     "output_type": "stream",
     "text": [
      "/opt/conda/lib/python3.12/site-packages/osgeo/gdal.py:311: FutureWarning: Neither gdal.UseExceptions() nor gdal.DontUseExceptions() has been explicitly called. In GDAL 4.0, exceptions will be enabled by default.\n",
      "  warnings.warn(\n"
     ]
    }
   ],
   "source": [
    "# os.unlink(\"mobi.xyz\")\n",
    "from cng.zonal import raster_reprojection \n",
    "\n",
    "raster_reprojection(\"/vsicurl/https://data.source.coop/cboettig/mobi/species-richness-all/mobi-species-richness.tif\", \"/vsis3/public-data/cache/mobi.xyz\", 'EPSG:4326')"
   ]
  },
  {
   "cell_type": "code",
   "execution_count": 5,
   "id": "06d23002",
   "metadata": {},
   "outputs": [
    {
     "data": {
      "application/vnd.jupyter.widget-view+json": {
       "model_id": "149a7c7f4c97449393b45bfaa3d2a535",
       "version_major": 2,
       "version_minor": 0
      },
      "text/plain": [
       "FloatProgress(value=0.0, layout=Layout(width='auto'), style=ProgressStyle(bar_color='black'))"
      ]
     },
     "metadata": {},
     "output_type": "display_data"
    }
   ],
   "source": [
    "# not sure why ibis buildin is failing here??\n",
    "\n",
    "\n",
    "mobi = (con\n",
    "  .read_csv(\"mobi.xyz\", \n",
    "            delim = ' ', \n",
    "            columns = {'X': 'FLOAT', 'Y': 'FLOAT', 'Z': 'INTEGER'})\n",
    "  .mutate(h8 = h3_latlng_to_cell_string(_.Y, _.X, 8))\n",
    "  .to_parquet(\"s3://public-data/cache/mobi.xyz\")\n",
    ")\n",
    "\n"
   ]
  },
  {
   "cell_type": "code",
   "execution_count": 6,
   "id": "37d347d7",
   "metadata": {},
   "outputs": [],
   "source": [
    "\n",
    "\n",
    "tracts_z8 = (\n",
    "    con\n",
    "    .read_parquet(\"s3://public-social-vulnerability/2022-tracts-h3-z8.parquet\")\n",
    "    .mutate(h8 = _.h8.lower())\n",
    ")\n",
    "\n",
    "tracts_mobi = (\n",
    "    con.read_parquet(\"s3://public-data/cache/mobi.xyz\")\n",
    "    .inner_join(tracts_z8, \"h8\")\n",
    "    .group_by(_.COUNTY)\n",
    "    .agg(richness = _.Z.mean())\n",
    ")  \n"
   ]
  },
  {
   "cell_type": "code",
   "execution_count": 7,
   "id": "a7004d18",
   "metadata": {},
   "outputs": [],
   "source": [
    "import ibis\n",
    "from ibis import _\n",
    "con = ibis.duckdb.connect(extensions = [\"spatial\", \"h3\"])\n",
    "\n",
    "\n",
    "pad_z8 =  con.read_parquet(\"https://minio.carlboettiger.info/public-biodiversity/pad-us-4/pad-h3-z8.parquet\")\n",
    "tracts_z8 = con.read_parquet(\"https://minio.carlboettiger.info/public-social-vulnerability/2022-tracts-h3-z8.parquet\").mutate(h8 = _.h8.lower())\n",
    "mobi = con.read_parquet(\"https://minio.carlboettiger.info/public-mobi/hex/all-richness-h8.parquet\").rename(richness = \"Z\").select('richness', 'h8')\n",
    "svi = con.read_parquet(\"https://minio.carlboettiger.info/public-social-vulnerability/2022/SVI2022_US_tract.parquet\").select('FIPS', 'RPL_THEMES')\n",
    "\n",
    "combined = tracts_z8.inner_join(mobi, \"h8\").inner_join(pad_z8, \"h8\").inner_join(svi, \"FIPS\")\n",
    "\n",
    "\n"
   ]
  },
  {
   "cell_type": "code",
   "execution_count": null,
   "id": "3f72e86f-bee0-4493-ae7b-86b1a5c78cb4",
   "metadata": {},
   "outputs": [],
   "source": []
  },
  {
   "cell_type": "code",
   "execution_count": 8,
   "id": "5a782701",
   "metadata": {},
   "outputs": [
    {
     "data": {
      "application/vnd.jupyter.widget-view+json": {
       "model_id": "a02ab362276c419eb16c37aa92081470",
       "version_major": 2,
       "version_minor": 0
      },
      "text/plain": [
       "Map(calls=[['addControl', ('NavigationControl', {'showCompass': True, 'showZoom': True, 'visualizePitch': Fals…"
      ]
     },
     "metadata": {},
     "output_type": "display_data"
    }
   ],
   "source": [
    "import leafmap.maplibregl as leafmap\n",
    "m = leafmap.Map()\n",
    "\n",
    "pmtiles = \"https://minio.carlboettiger.info/public-biodiversity/pad-us-4/pad-us-4.pmtiles\"\n",
    "pmtiles = \"https://minio.carlboettiger.info/public-biodiversity/pad-us-4/pad-us-4.pmtiles\"\n",
    "\n",
    "m.add_pmtiles(pmtiles)\n",
    "m"
   ]
  },
  {
   "cell_type": "code",
   "execution_count": null,
   "id": "b4db64a8",
   "metadata": {},
   "outputs": [],
   "source": [
    "\n",
    "\n",
    "hectres_h8 = 737327.598\t/ 10000\n",
    "\n",
    "county_group = (\n",
    "    combined\n",
    "    .group_by(\"COUNTY\")\n",
    "    .agg(richness = _.richness.mean(), \n",
    "         area = _.count() * hectres_h8,\n",
    "         svi = _.RPL_THEMES.mean() \n",
    "         )\n",
    ")\n",
    "\n"
   ]
  }
 ],
 "metadata": {
  "kernelspec": {
   "display_name": "Python 3 (ipykernel)",
   "language": "python",
   "name": "python3"
  },
  "language_info": {
   "codemirror_mode": {
    "name": "ipython",
    "version": 3
   },
   "file_extension": ".py",
   "mimetype": "text/x-python",
   "name": "python",
   "nbconvert_exporter": "python",
   "pygments_lexer": "ipython3",
   "version": "3.12.10"
  }
 },
 "nbformat": 4,
 "nbformat_minor": 5
}
