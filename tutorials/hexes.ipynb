{
 "cells": [
  {
   "cell_type": "code",
   "execution_count": 1,
   "id": "0ecce4e5",
   "metadata": {},
   "outputs": [],
   "source": [
    "from cng.utils import *\n",
    "from ibis import _\n",
    "import os\n",
    "from osgeo import gdal\n",
    "\n",
    "con = ibis.duckdb.connect(extensions = [\"spatial\", \"h3\"])\n",
    "endpoint = os.getenv(\"AWS_S3_ENDPOINT\", \"minio.carlboettiger.info\")\n",
    "\n",
    "set_secrets(con)"
   ]
  },
  {
   "cell_type": "code",
   "execution_count": 2,
   "id": "50c82623",
   "metadata": {},
   "outputs": [],
   "source": [
    "# could use bash\n",
    "# ! gdalwarp -t_srs EPSG:4326 -of XYZ /vsicurl/https://data.source.coop/cboettig/mobi/species-richness-all/mobi-species-richness.tif mobi.txt"
   ]
  },
  {
   "cell_type": "code",
   "execution_count": null,
   "id": "26ca6bc3",
   "metadata": {},
   "outputs": [
    {
     "name": "stderr",
     "output_type": "stream",
     "text": [
      "/opt/conda/lib/python3.12/site-packages/osgeo/gdal.py:311: FutureWarning: Neither gdal.UseExceptions() nor gdal.DontUseExceptions() has been explicitly called. In GDAL 4.0, exceptions will be enabled by default.\n",
      "  warnings.warn(\n"
     ]
    }
   ],
   "source": [
    "# os.unlink(\"mobi.xyz\")\n",
    "\n",
    "def gdal_warp(input_file, output_file, dst_srs):\n",
    "    ds = gdal.Open(input_file)\n",
    "    src_srs = ds.GetProjection()\n",
    "    warp_options = gdal.WarpOptions(dstSRS=dst_srs)\n",
    "    gdal.Warp(output_file, ds, options=warp_options)\n",
    "\n",
    "input_file =\"/vsicurl/https://data.source.coop/cboettig/mobi/species-richness-all/mobi-species-richness.tif\"\n",
    "output_file = \"mobi.xyz\"\n",
    "dst_srs = 'EPSG:4326'  # WGS84\n",
    "\n",
    "gdal_warp(input_file, output_file, dst_srs)"
   ]
  },
  {
   "cell_type": "code",
   "execution_count": 4,
   "id": "06d23002",
   "metadata": {},
   "outputs": [],
   "source": [
    "\n",
    "mobi = con.read_csv(\"mobi.xyz\", \n",
    "             delim = ' ', \n",
    "             columns = {'X': 'FLOAT', 'Y': 'FLOAT', 'Z': 'INTEGER'}\n",
    "            )"
   ]
  },
  {
   "cell_type": "code",
   "execution_count": 5,
   "id": "37d347d7",
   "metadata": {},
   "outputs": [],
   "source": [
    "\n",
    "\n",
    "tracts_z8 = (\n",
    "    con\n",
    "    .read_parquet(\"s3://public-social-vulnerability/2022-tracts-h3-z8.parquet\")\n",
    "    .filter(_.STATE == \"California\") \n",
    "    .mutate(h8 = _.h8.lower())\n",
    ")"
   ]
  },
  {
   "cell_type": "code",
   "execution_count": null,
   "id": "940603d2",
   "metadata": {},
   "outputs": [],
   "source": [
    "\n",
    "tracts_mobi = (\n",
    "    tracts_z8\n",
    "    .join(mobi)\n",
    "    .group_by(_.COUNTY)\n",
    "    .agg(richness = _.Z.mean())\n",
    "    .order_by(_.richness.desc())\n",
    ")  \n",
    "\n",
    "tracts_mobi.execute()"
   ]
  }
 ],
 "metadata": {
  "kernelspec": {
   "display_name": "base",
   "language": "python",
   "name": "python3"
  },
  "language_info": {
   "codemirror_mode": {
    "name": "ipython",
    "version": 3
   },
   "file_extension": ".py",
   "mimetype": "text/x-python",
   "name": "python",
   "nbconvert_exporter": "python",
   "pygments_lexer": "ipython3",
   "version": "3.12.10"
  }
 },
 "nbformat": 4,
 "nbformat_minor": 5
}
