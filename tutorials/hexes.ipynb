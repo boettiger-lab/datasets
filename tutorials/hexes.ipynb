{
 "cells": [
  {
   "cell_type": "code",
   "execution_count": null,
   "id": "0ecce4e5",
   "metadata": {},
   "outputs": [],
   "source": [
    "from cng.utils import *\n",
    "from ibis import _\n",
    "import os\n",
    "from osgeo import gdal\n",
    "\n",
    "con = ibis.duckdb.connect(extensions = [\"spatial\", \"h3\"])\n",
    "endpoint = os.getenv(\"AWS_S3_ENDPOINT\", \"minio.carlboettiger.info\")\n",
    "\n",
    "set_secrets(con)"
   ]
  },
  {
   "cell_type": "code",
   "execution_count": null,
   "id": "50c82623",
   "metadata": {},
   "outputs": [],
   "source": [
    "# could use bash\n",
    "# ! gdalwarp -t_srs EPSG:4326 -of XYZ /vsicurl/https://data.source.coop/cboettig/mobi/species-richness-all/mobi-species-richness.tif mobi.txt"
   ]
  },
  {
   "cell_type": "code",
   "execution_count": null,
   "id": "26ca6bc3",
   "metadata": {},
   "outputs": [],
   "source": [
    "# os.unlink(\"mobi.xyz\")\n",
    "\n",
    "def gdal_warp(input_file, output_file, dst_srs):\n",
    "    ds = gdal.Open(input_file)\n",
    "    src_srs = ds.GetProjection()\n",
    "    warp_options = gdal.WarpOptions(dstSRS=dst_srs)\n",
    "    gdal.Warp(output_file, ds, options=warp_options)\n",
    "\n",
    "input_file =\"/vsicurl/https://data.source.coop/cboettig/mobi/species-richness-all/mobi-species-richness.tif\"\n",
    "output_file = \"mobi.xyz\"\n",
    "dst_srs = 'EPSG:4326'  # WGS84\n",
    "\n",
    "gdal_warp(input_file, output_file, dst_srs)"
   ]
  },
  {
   "cell_type": "code",
   "execution_count": null,
   "id": "06d23002",
   "metadata": {},
   "outputs": [],
   "source": [
    "mobi = con.read_csv(\"mobi.xyz\", \n",
    "             delim = ' ', \n",
    "             columns = {'X': 'FLOAT', 'Y': 'FLOAT', 'Z': 'INTEGER'},\n",
    "            table_name = 'mobi'\n",
    "            )\n",
    "\n",
    "zoom = 8\n",
    "con.raw_sql(f'''\n",
    "CREATE OR REPLACE TEMP TABLE t AS\n",
    "SELECT Z,\n",
    "       h3_latlng_to_cell_string(Y, X, {zoom}) AS h{zoom}\n",
    "FROM mobi\n",
    "''')\n",
    "mobi_h3 = con.table(\"t\")"
   ]
  },
  {
   "cell_type": "code",
   "execution_count": null,
   "id": "37d347d7",
   "metadata": {},
   "outputs": [],
   "source": [
    "tracts_z8 = (\n",
    "    con\n",
    "    .read_parquet(\"s3://public-social-vulnerability/2022-tracts-h3-z8.parquet\")\n",
    "    .filter(_.STATE == \"California\") \n",
    "    .mutate(h8 = _.h8.lower())\n",
    ")"
   ]
  },
  {
   "cell_type": "code",
   "execution_count": null,
   "id": "940603d2",
   "metadata": {},
   "outputs": [],
   "source": [
    "\n",
    "tracts_mobi = (\n",
    "    tracts_z8\n",
    "    .left_join(mobi_h3, 'h8')\n",
    "    .group_by(_.COUNTY)\n",
    "    .agg(richness = _.Z.mean())\n",
    "    .order_by(_.richness.desc())\n",
    ")  \n",
    "\n",
    "\n",
    "tracts_mobi.execute()"
   ]
  }
 ],
 "metadata": {
  "kernelspec": {
   "display_name": "Python 3 (ipykernel)",
   "language": "python",
   "name": "python3"
  },
  "language_info": {
   "codemirror_mode": {
    "name": "ipython",
    "version": 3
   },
   "file_extension": ".py",
   "mimetype": "text/x-python",
   "name": "python",
   "nbconvert_exporter": "python",
   "pygments_lexer": "ipython3",
   "version": "3.12.10"
  }
 },
 "nbformat": 4,
 "nbformat_minor": 5
}
