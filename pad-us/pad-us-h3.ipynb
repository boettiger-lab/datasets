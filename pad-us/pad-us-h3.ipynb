{
 "cells": [
  {
   "cell_type": "code",
   "execution_count": 2,
   "metadata": {},
   "outputs": [],
   "source": [
    "from cng.utils import *\n",
    "from cng.h3 import *\n",
    "\n",
    "duckdb_install_h3()\n",
    "\n",
    "import ibis\n",
    "from ibis import _\n",
    "con = ibis.duckdb.connect(extensions = [\"spatial\", \"h3\"])\n",
    "\n",
    "import streamlit as st\n",
    "set_secrets(con, st.secrets[\"MINIO_KEY\"], st.secrets[\"MINIO_SECRET\"])\n",
    "\n"
   ]
  },
  {
   "cell_type": "code",
   "execution_count": null,
   "metadata": {},
   "outputs": [],
   "source": [
    "\n",
    "parquet = \"https://minio.carlboettiger.info/public-biodiversity/pad-us-4/pad-us-4.parquet\"\n",
    "con.raw_sql(f\"CREATE  OR REPLACE VIEW pad4 AS SELECT Unit_Nm, row_n, geom FROM '{parquet}'\")\n",
    "\n",
    "zoom = 10\n",
    "\n",
    "con.sql(f'''\n",
    "WITH t1 AS (\n",
    "  SELECT Unit_Nm, row_n, ST_Dump(geom) AS geom \n",
    "  FROM pad4\n",
    ") \n",
    "SELECT Unit_Nm, row_n,\n",
    "       h3_polygon_wkt_to_cells_string(UNNEST(geom).geom, {zoom}) AS h{zoom}\n",
    "FROM t1\n",
    "''').to_parquet(f\"s3://public-biodiversity/pad-us-4/pad-h3-z{zoom}.parquet\")\n",
    "#parquet = \"https://minio.carlboettiger.info/public-data/social-vulnerability/2022/SVI2022_US_tract.parquet\" # faster with local\n",
    "#con.raw_sql(f\"CREATE  OR REPLACE VIEW svi AS SELECT FIPS, Shape AS geom FROM '{parquet}'\")"
   ]
  },
  {
   "cell_type": "code",
   "execution_count": 3,
   "metadata": {},
   "outputs": [
    {
     "data": {
      "application/vnd.jupyter.widget-view+json": {
       "model_id": "ab058b3d29d74844ac688d33641026e8",
       "version_major": 2,
       "version_minor": 0
      },
      "text/plain": [
       "FloatProgress(value=0.0, layout=Layout(width='auto'), style=ProgressStyle(bar_color='black'))"
      ]
     },
     "metadata": {},
     "output_type": "display_data"
    },
    {
     "data": {
      "text/html": [
       "<div>\n",
       "<style scoped>\n",
       "    .dataframe tbody tr th:only-of-type {\n",
       "        vertical-align: middle;\n",
       "    }\n",
       "\n",
       "    .dataframe tbody tr th {\n",
       "        vertical-align: top;\n",
       "    }\n",
       "\n",
       "    .dataframe thead th {\n",
       "        text-align: right;\n",
       "    }\n",
       "</style>\n",
       "<table border=\"1\" class=\"dataframe\">\n",
       "  <thead>\n",
       "    <tr style=\"text-align: right;\">\n",
       "      <th></th>\n",
       "      <th>Unit_Nm</th>\n",
       "      <th>row_n</th>\n",
       "      <th>h10</th>\n",
       "      <th>h8</th>\n",
       "    </tr>\n",
       "  </thead>\n",
       "  <tbody>\n",
       "    <tr>\n",
       "      <th>0</th>\n",
       "      <td>Laguna Cartagena National Wildlife Refuge</td>\n",
       "      <td>0</td>\n",
       "      <td>[8a4cc0b42817fff, 8a4cc0b51837fff, 8a4cc0b4201...</td>\n",
       "      <td>884cc0b429fffff</td>\n",
       "    </tr>\n",
       "    <tr>\n",
       "      <th>1</th>\n",
       "      <td>Laguna Cartagena National Wildlife Refuge</td>\n",
       "      <td>0</td>\n",
       "      <td>[8a4cc0b42817fff, 8a4cc0b51837fff, 8a4cc0b4201...</td>\n",
       "      <td>884cc0b519fffff</td>\n",
       "    </tr>\n",
       "    <tr>\n",
       "      <th>2</th>\n",
       "      <td>Laguna Cartagena National Wildlife Refuge</td>\n",
       "      <td>0</td>\n",
       "      <td>[8a4cc0b42817fff, 8a4cc0b51837fff, 8a4cc0b4201...</td>\n",
       "      <td>884cc0b421fffff</td>\n",
       "    </tr>\n",
       "    <tr>\n",
       "      <th>3</th>\n",
       "      <td>Laguna Cartagena National Wildlife Refuge</td>\n",
       "      <td>0</td>\n",
       "      <td>[8a4cc0b42817fff, 8a4cc0b51837fff, 8a4cc0b4201...</td>\n",
       "      <td>884cc0b553fffff</td>\n",
       "    </tr>\n",
       "    <tr>\n",
       "      <th>4</th>\n",
       "      <td>Laguna Cartagena National Wildlife Refuge</td>\n",
       "      <td>0</td>\n",
       "      <td>[8a4cc0b42817fff, 8a4cc0b51837fff, 8a4cc0b4201...</td>\n",
       "      <td>884cc0b429fffff</td>\n",
       "    </tr>\n",
       "  </tbody>\n",
       "</table>\n",
       "</div>"
      ],
      "text/plain": [
       "                                     Unit_Nm  row_n  \\\n",
       "0  Laguna Cartagena National Wildlife Refuge      0   \n",
       "1  Laguna Cartagena National Wildlife Refuge      0   \n",
       "2  Laguna Cartagena National Wildlife Refuge      0   \n",
       "3  Laguna Cartagena National Wildlife Refuge      0   \n",
       "4  Laguna Cartagena National Wildlife Refuge      0   \n",
       "\n",
       "                                                 h10               h8  \n",
       "0  [8a4cc0b42817fff, 8a4cc0b51837fff, 8a4cc0b4201...  884cc0b429fffff  \n",
       "1  [8a4cc0b42817fff, 8a4cc0b51837fff, 8a4cc0b4201...  884cc0b519fffff  \n",
       "2  [8a4cc0b42817fff, 8a4cc0b51837fff, 8a4cc0b4201...  884cc0b421fffff  \n",
       "3  [8a4cc0b42817fff, 8a4cc0b51837fff, 8a4cc0b4201...  884cc0b553fffff  \n",
       "4  [8a4cc0b42817fff, 8a4cc0b51837fff, 8a4cc0b4201...  884cc0b429fffff  "
      ]
     },
     "execution_count": 3,
     "metadata": {},
     "output_type": "execute_result"
    }
   ],
   "source": [
    "\n",
    "(con\n",
    "       .read_parquet(\"s3://public-biodiversity/pad-us-4/pad-h3-z10.parquet\")\n",
    "       .mutate(h8 = h3_cell_to_parent(_.h10.unnest(), 8))\n",
    ").head() .execute()"
   ]
  },
  {
   "cell_type": "code",
   "execution_count": 4,
   "metadata": {},
   "outputs": [
    {
     "data": {
      "application/vnd.jupyter.widget-view+json": {
       "model_id": "f00514d4431f4aa0adb3480cb8f977f7",
       "version_major": 2,
       "version_minor": 0
      },
      "text/plain": [
       "FloatProgress(value=0.0, layout=Layout(width='auto'), style=ProgressStyle(bar_color='black'))"
      ]
     },
     "metadata": {},
     "output_type": "display_data"
    }
   ],
   "source": [
    "\n",
    "\n",
    "(con\n",
    "   .read_parquet(\"s3://public-biodiversity/pad-us-4/pad-h3-z10.parquet\")\n",
    "   .mutate(h8 = h3_cell_to_parent(_.h10.unnest(), 8))\n",
    "   .drop(\"h10\")\n",
    "   .distinct()\n",
    "  ).to_parquet(\"s3://public-biodiversity/pad-us-4/pad-h3-z8.parquet\")\n",
    "\n"
   ]
  },
  {
   "cell_type": "code",
   "execution_count": 5,
   "metadata": {},
   "outputs": [],
   "source": [
    "(con\n",
    "       .read_parquet(\"s3://public-biodiversity/pad-us-4/pad-h3-z8.parquet\")\n",
    "       .mutate(h6 = h3_cell_to_parent(_.h8, 6))\n",
    "       .drop(\"h8\")\n",
    "       .distinct()\n",
    "      ).to_parquet(\"s3://public-biodiversity/pad-us-4/pad-h3-z6.parquet\")\n",
    "\n"
   ]
  }
 ],
 "metadata": {
  "kernelspec": {
   "display_name": "Python 3 (ipykernel)",
   "language": "python",
   "name": "python3"
  },
  "language_info": {
   "codemirror_mode": {
    "name": "ipython",
    "version": 3
   },
   "file_extension": ".py",
   "mimetype": "text/x-python",
   "name": "python",
   "nbconvert_exporter": "python",
   "pygments_lexer": "ipython3",
   "version": "3.12.8"
  }
 },
 "nbformat": 4,
 "nbformat_minor": 4
}
