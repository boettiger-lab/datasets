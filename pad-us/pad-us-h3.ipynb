{
 "cells": [
  {
   "cell_type": "code",
   "execution_count": 1,
   "metadata": {},
   "outputs": [
    {
     "data": {
      "text/plain": [
       "<duckdb.duckdb.DuckDBPyConnection at 0x716884226a30>"
      ]
     },
     "execution_count": 1,
     "metadata": {},
     "output_type": "execute_result"
    }
   ],
   "source": [
    "from cng.utils import *\n",
    "\n",
    "duckdb_install_h3()\n",
    "\n",
    "import ibis\n",
    "from ibis import _\n",
    "con = ibis.duckdb.connect(extensions = [\"spatial\", \"h3\"])\n",
    "\n",
    "import streamlit as st\n",
    "set_secrets(con, st.secrets[\"MINIO_KEY\"], st.secrets[\"MINIO_SECRET\"])\n",
    "\n",
    "parquet = \"https://minio.carlboettiger.info/public-biodiversity/pad-us-4/pad-us-4.parquet\"\n",
    "con.raw_sql(f\"CREATE  OR REPLACE VIEW pad4 AS SELECT Unit_Nm, row_n, geom FROM '{parquet}'\")\n",
    "\n",
    "zoom = 10\n",
    "\n",
    "con.sql(f'''\n",
    "WITH t1 AS (\n",
    "  SELECT Unit_Nm, row_n, ST_Dump(geom) AS geom \n",
    "  FROM pad4\n",
    ") \n",
    "SELECT Unit_Nm, row_n,\n",
    "       h3_polygon_wkt_to_cells_string(UNNEST(geom).geom, {zoom}) AS h{zoom}\n",
    "FROM t1\n",
    "''').to_parquet(f\"s3://public-biodiversity/pad-us-4/pad-h3-z{zoom}.parquet\")\n",
    "#parquet = \"https://minio.carlboettiger.info/public-data/social-vulnerability/2022/SVI2022_US_tract.parquet\" # faster with local\n",
    "#con.raw_sql(f\"CREATE  OR REPLACE VIEW svi AS SELECT FIPS, Shape AS geom FROM '{parquet}'\")"
   ]
  },
  {
   "cell_type": "code",
   "execution_count": null,
   "metadata": {},
   "outputs": [
    {
     "data": {
      "application/vnd.jupyter.widget-view+json": {
       "model_id": "2a570bc7fd2a4b47985e5facb36d3425",
       "version_major": 2,
       "version_minor": 0
      },
      "text/plain": [
       "FloatProgress(value=0.0, layout=Layout(width='auto'), style=ProgressStyle(bar_color='black'))"
      ]
     },
     "metadata": {},
     "output_type": "display_data"
    }
   ],
   "source": [
    "zoom = 10\n",
    "\n",
    "con.sql(f'''\n",
    "WITH t1 AS (\n",
    "  SELECT Unit_Nm, row_n, ST_Dump(geom) AS geom \n",
    "  FROM pad4\n",
    ") \n",
    "SELECT Unit_Nm, row_n,\n",
    "       h3_polygon_wkt_to_cells_string(UNNEST(geom).geom, {zoom}) AS h{zoom}\n",
    "FROM t1\n",
    "''').to_parquet(f\"s3://public-biodiversity/pad-us-4/pad-h3-z{zoom}.parquet\")"
   ]
  }
 ],
 "metadata": {
  "kernelspec": {
   "display_name": "base",
   "language": "python",
   "name": "python3"
  },
  "language_info": {
   "codemirror_mode": {
    "name": "ipython",
    "version": 3
   },
   "file_extension": ".py",
   "mimetype": "text/x-python",
   "name": "python",
   "nbconvert_exporter": "python",
   "pygments_lexer": "ipython3",
   "version": "3.12.8"
  }
 },
 "nbformat": 4,
 "nbformat_minor": 2
}
