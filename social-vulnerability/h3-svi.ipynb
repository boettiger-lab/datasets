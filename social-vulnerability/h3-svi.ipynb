{
 "cells": [
  {
   "cell_type": "code",
   "execution_count": 1,
   "metadata": {},
   "outputs": [
    {
     "data": {
      "text/plain": [
       "<duckdb.duckdb.DuckDBPyConnection at 0x749181f33630>"
      ]
     },
     "execution_count": 1,
     "metadata": {},
     "output_type": "execute_result"
    }
   ],
   "source": [
    "from cng.utils import *\n",
    "\n",
    "import ibis\n",
    "from ibis import _\n",
    "\n",
    "con = ibis.duckdb.connect(extensions = [\"spatial\", \"h3\"])\n",
    "set_secrets(con)\n",
    "duckdb_install_h3()\n",
    "\n",
    "parquet = \"https://minio.carlboettiger.info/public-data/social-vulnerability/2022/SVI2022_US_tract.parquet\" # faster with local\n",
    "con.raw_sql(f\"CREATE  OR REPLACE VIEW svi AS SELECT FIPS, Shape AS geom FROM '{parquet}'\")\n"
   ]
  },
  {
   "cell_type": "code",
   "execution_count": null,
   "metadata": {},
   "outputs": [],
   "source": [
    "zoom = 11\n",
    "\n",
    "con.sql(f'''\n",
    "WITH t1 AS (\n",
    "  SELECT FIPS, ST_Dump(geom) AS geom \n",
    "  FROM svi\n",
    ") \n",
    "SELECT FIPS, \n",
    "       h3_polygon_wkt_to_cells_string(UNNEST(geom).geom, {zoom}) AS h{zoom}\n",
    "FROM t1\n",
    "''').to_parquet(f\"s3://public-social-vulnerability/2022-tracts-h3-z{zoom}.parquet\")"
   ]
  }
 ],
 "metadata": {
  "kernelspec": {
   "display_name": "base",
   "language": "python",
   "name": "python3"
  },
  "language_info": {
   "codemirror_mode": {
    "name": "ipython",
    "version": 3
   },
   "file_extension": ".py",
   "mimetype": "text/x-python",
   "name": "python",
   "nbconvert_exporter": "python",
   "pygments_lexer": "ipython3",
   "version": "3.12.8"
  }
 },
 "nbformat": 4,
 "nbformat_minor": 2
}
