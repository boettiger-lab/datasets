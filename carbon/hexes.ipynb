{
 "cells": [
  {
   "cell_type": "code",
   "execution_count": null,
   "id": "f4e40529-9331-44aa-9871-8752b241ed06",
   "metadata": {},
   "outputs": [],
   "source": [
    "import ibis\n",
    "from ibis import _\n",
    "import pathlib\n",
    "import os\n",
    "from osgeo import gdal\n",
    "from cng.utils import *\n",
    "from cng.h3 import *\n",
    "\n",
    "gdal.DontUseExceptions()\n",
    "os.environ['AWS_VIRTUAL_HOSTING'] = 'FALSE'\n",
    "\n",
    "# from cng.zonal import * \n",
    "con = ibis.duckdb.connect(\"duck.db\",extensions = [\"spatial\", \"h3\"])\n",
    "install_h3()\n",
    "set_secrets(con)\n",
    "\n",
    "input_url = \"/vsicurl/https://minio.carlboettiger.info/public-carbon/cogs/vulnerable_c_total_2018.tif\"\n",
    "\n",
    "#con.raw_sql(\"SET threads=1;\") # Reducing threads reduces RAM use of duckdb\n",
    "#con.raw_sql(\"SET memory_limit = '58GB';\") # Reducing threads reduces RAM use of duckdb"
   ]
  },
  {
   "cell_type": "code",
   "execution_count": null,
   "id": "fa31d24b-032c-4a67-a20a-8a8826dda655",
   "metadata": {},
   "outputs": [],
   "source": [
    "df = con.read_parquet(\"s3://public-grids/hex/h0.parquet\").mutate(h0 = _.h0.lower()).execute()\n"
   ]
  },
  {
   "cell_type": "code",
   "execution_count": null,
   "id": "2d56d946-80e2-423e-8033-3a2f8ef9b0b4",
   "metadata": {},
   "outputs": [],
   "source": [
    "#set_secrets(con, \"\", \"\", \"s3.amazonaws.com\", \"overturemaps-us-west-2\", 'vhost')\n",
    "#overture = con.read_parquet('s3://overturemaps-us-west-2/release/2024-11-13.0/theme=divisions/type=division_area/*', filename=True, hive_partitioning=1)\n",
    "#wkt = overture.filter(_.subtype==\"region\").filter(_.region == \"US-CA\").select(_.geometry).execute().geometry[0].wkt"
   ]
  },
  {
   "cell_type": "code",
   "execution_count": null,
   "id": "b1de1262-b779-4bc8-9aba-e93f8a20156e",
   "metadata": {},
   "outputs": [],
   "source": [
    "%%time\n",
    "# CA in 17 seconds\n",
    "input_url = \"/vsicurl/https://minio.carlboettiger.info/public-carbon/cogs/vulnerable_c_total_2018.tif\"\n",
    "dest = \"test_carbon.xyz\"\n",
    "gdal.Warp(dest, input_url, dstSRS = 'EPSG:4326', cutlineWKT = wkt, cropToCutline = True)"
   ]
  },
  {
   "cell_type": "code",
   "execution_count": null,
   "id": "e0edeacb-466c-406a-a95c-c2e42cb99509",
   "metadata": {},
   "outputs": [],
   "source": [
    "%%time\n",
    "i = 100\n",
    "wkt = df.geom[i]\n",
    "h0 = df.h0[i]\n",
    "zoom = 8\n",
    "gdal.Warp(\"tmp-carbon.xyz\", input_url, dstSRS = 'EPSG:4326', cutlineWKT = wkt, cropToCutline = True)\n"
   ]
  },
  {
   "cell_type": "code",
   "execution_count": null,
   "id": "9eefd6c2-27cb-4383-8a32-2ee2c3429184",
   "metadata": {},
   "outputs": [],
   "source": [
    "%%time\n",
    "(con\n",
    "  .read_csv(\"tmp-carbon.xyz\", \n",
    "            delim = ' ', \n",
    "            columns = {'X': 'FLOAT', 'Y': 'FLOAT', 'Z': 'INTEGER'})\n",
    "  .mutate(h0 = h3_latlng_to_cell_string(_.Y, _.X, zoom),\n",
    "          h8 = h3_latlng_to_cell_string(_.Y, _.X, zoom))\n",
    "  .mutate(Z = ibis.ifelse(_.Z == 65535, None, _.Z)) \n",
    " .to_parquet(\"test.parquet\")\n",
    "  #.to_parquet(f\"s3://public-carbon/hex/vulnerable-carbon/h0={h0}/vulnerable-total-carbon-2018-h{zoom}.parquet\")\n",
    ")\n",
    "pathlib.Path(\"tmp-carbon.xyz\").unlink()\n",
    "\n",
    "con.read_parquet(\"test.parquet\")"
   ]
  },
  {
   "cell_type": "code",
   "execution_count": null,
   "id": "9f7aabc1-6df3-4127-ae6d-4628ebb0a329",
   "metadata": {},
   "outputs": [],
   "source": [
    "\n",
    "#see `gdal.WarpOptions?` for details. Also see resampling options in warper for large data\n",
    "# NOTE! dest given before input!\n",
    "for i in range(df.shape[0]):\n",
    "    wkt = df.geom[i]\n",
    "    h0 = df.h0[i]\n",
    "    zoom = 8\n",
    "    print(h0)\n",
    "\n",
    "    try:\n",
    "        gdal.Warp(\"tmp-carbon.xyz\", input_url, dstSRS = 'EPSG:4326', cutlineWKT = wkt, cropToCutline = True)\n",
    "    \n",
    "        (con\n",
    "          .read_csv(\"tmp-carbon.xyz\", \n",
    "                    delim = ' ', \n",
    "                    columns = {'X': 'FLOAT', 'Y': 'FLOAT', 'Z': 'INTEGER'})\n",
    "          .mutate(h0 = h3_latlng_to_cell_string(_.Y, _.X, zoom),\n",
    "                  h8 = h3_latlng_to_cell_string(_.Y, _.X, zoom))\n",
    "          .mutate(Z = ibis.ifelse(_.Z == 65535, None, _.Z)) \n",
    "          .to_parquet(f\"s3://public-carbon/hex/vulnerable-carbon/h0={h0}/vulnerable-total-carbon-2018-h{zoom}.parquet\")\n",
    "        )\n",
    "        pathlib.Path(\"tmp-carbon.xyz\").unlink()\n",
    "    except Exception as e:\n",
    "        print(f\"Error processing item {i}: {e}\")\n",
    "    \n",
    "\n"
   ]
  },
  {
   "cell_type": "code",
   "execution_count": null,
   "id": "dacdd712-db74-413b-a357-10735b5f60fd",
   "metadata": {},
   "outputs": [],
   "source": [
    "con.read_parquet(\"s3://public-carbon/hex/vulnerable-carbon/\")"
   ]
  }
 ],
 "metadata": {
  "kernelspec": {
   "display_name": "Python 3 (ipykernel)",
   "language": "python",
   "name": "python3"
  },
  "language_info": {
   "codemirror_mode": {
    "name": "ipython",
    "version": 3
   },
   "file_extension": ".py",
   "mimetype": "text/x-python",
   "name": "python",
   "nbconvert_exporter": "python",
   "pygments_lexer": "ipython3",
   "version": "3.12.10"
  }
 },
 "nbformat": 4,
 "nbformat_minor": 5
}
