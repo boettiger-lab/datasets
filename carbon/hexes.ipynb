{
 "cells": [
  {
   "cell_type": "code",
   "execution_count": 4,
   "id": "f4e40529-9331-44aa-9871-8752b241ed06",
   "metadata": {},
   "outputs": [
    {
     "data": {
      "text/plain": [
       "<duckdb.duckdb.DuckDBPyConnection at 0x7df945dd9b70>"
      ]
     },
     "execution_count": 4,
     "metadata": {},
     "output_type": "execute_result"
    }
   ],
   "source": [
    "import ibis\n",
    "from ibis import _\n",
    "import os\n",
    "from osgeo import gdal\n",
    "from cng.utils import *\n",
    "from cng.h3 import *\n",
    "# from cng.zonal import * \n",
    "con = ibis.duckdb.connect(extensions = [\"spatial\", \"h3\"])\n",
    "install_h3()\n",
    "set_secrets(con)\n",
    "\n",
    "\n",
    "\n",
    "con.raw_sql(\"SET threads=8;\") # Reducing threads reduces RAM use of duckdb\n",
    "#con.raw_sql(\"SET memory_limit = '58GB';\") # Reducing threads reduces RAM use of duckdb"
   ]
  },
  {
   "cell_type": "code",
   "execution_count": 2,
   "id": "2d56d946-80e2-423e-8033-3a2f8ef9b0b4",
   "metadata": {},
   "outputs": [],
   "source": [
    "set_secrets(con, \"\", \"\", \"s3.amazonaws.com\", \"overturemaps-us-west-2\", 'vhost')\n",
    "overture = con.read_parquet('s3://overturemaps-us-west-2/release/2024-11-13.0/theme=divisions/type=division_area/*', filename=True, hive_partitioning=1)\n",
    "\n",
    "wkt = overture.filter(_.subtype==\"country\").filter(_.country == \"US\").select(_.geometry).execute().geometry[0].wkt\n",
    "\n"
   ]
  },
  {
   "cell_type": "code",
   "execution_count": 3,
   "id": "23f577f7-453d-4025-bd5b-0503587e3408",
   "metadata": {},
   "outputs": [],
   "source": [
    "# smaller test case\n",
    "ca = (overture\n",
    "       .filter(_.country == \"US\", _.subtype == \"region\")\n",
    "       .select('region', 'geometry')\n",
    "       .filter(_.region == \"US-CA\")\n",
    "       .execute()\n",
    "      )\n",
    "\n",
    "ca_wkt = ca.geometry[0].wkt"
   ]
  },
  {
   "cell_type": "code",
   "execution_count": 4,
   "id": "9f7aabc1-6df3-4127-ae6d-4628ebb0a329",
   "metadata": {},
   "outputs": [
    {
     "name": "stderr",
     "output_type": "stream",
     "text": [
      "Warning 1: the source raster dataset has a SRS, but the cutline features\n",
      "not.  We assume that the cutline coordinates are expressed in the destination SRS.\n",
      "If not, cutline results may be incorrect.\n"
     ]
    },
    {
     "data": {
      "text/plain": [
       "<osgeo.gdal.Dataset; proxy of <Swig Object of type 'GDALDatasetShadow *' at 0x7a74983c6eb0> >"
      ]
     },
     "execution_count": 4,
     "metadata": {},
     "output_type": "execute_result"
    }
   ],
   "source": [
    "import os # for vsis3\n",
    "os.environ['AWS_VIRTUAL_HOSTING'] = 'FALSE'\n",
    "\n",
    "from osgeo import gdal\n",
    "gdal.DontUseExceptions()\n",
    "\n",
    "#see `gdal.WarpOptions?` for details. Also see resampling options in warper for large data\n",
    "# NOTE! dest given before input!\n",
    "\n",
    "input_url = \"/vsicurl/https://minio.carlboettiger.info/public-carbon/cogs/vulnerable_c_total_2018.tif\"\n",
    "dest = \"/vsis3/public-carbon/tmp-carbon.xyz\"\n",
    "gdal.Warp(dest, input_url, dstSRS = 'EPSG:4326', cutlineWKT = wkt, cropToCutline = True)\n",
    "\n"
   ]
  },
  {
   "cell_type": "code",
   "execution_count": 3,
   "id": "5d5aeae5-0545-405a-8aca-07b4776a5ee8",
   "metadata": {},
   "outputs": [
    {
     "data": {
      "application/vnd.jupyter.widget-view+json": {
       "model_id": "81cb4923b84a44d9b2f358198080b1ca",
       "version_major": 2,
       "version_minor": 0
      },
      "text/plain": [
       "FloatProgress(value=0.0, layout=Layout(width='auto'), style=ProgressStyle(bar_color='black'))"
      ]
     },
     "metadata": {},
     "output_type": "display_data"
    }
   ],
   "source": [
    "\n",
    "(con\n",
    "  .read_csv(\"s3://public-carbon/tmp-carbon.xyz\", \n",
    "            delim = ' ', \n",
    "            columns = {'X': 'FLOAT', 'Y': 'FLOAT', 'Z': 'INTEGER'})\n",
    "  .mutate(h8 = h3_latlng_to_cell_string(_.Y, _.X, 8))\n",
    "  .rename(carbon = \"Z\")\n",
    "  .mutate(carbon = ibis.ifelse(_.carbon == 65535, None, _.carbon)) \n",
    "  .to_parquet(\"s3://public-carbon/hex/us-vulnerable-total-carbon-2018-h8.parquet\")\n",
    ")\n",
    "\n"
   ]
  },
  {
   "cell_type": "code",
   "execution_count": 5,
   "id": "5b69a72e-f57a-417c-adfa-eac11eade192",
   "metadata": {},
   "outputs": [
    {
     "data": {
      "application/vnd.jupyter.widget-view+json": {
       "model_id": "29ec4d592a9f4a2eba036a478886cfa6",
       "version_major": 2,
       "version_minor": 0
      },
      "text/plain": [
       "FloatProgress(value=0.0, layout=Layout(width='auto'), style=ProgressStyle(bar_color='black'))"
      ]
     },
     "metadata": {},
     "output_type": "display_data"
    },
    {
     "data": {
      "text/html": [
       "<div>\n",
       "<style scoped>\n",
       "    .dataframe tbody tr th:only-of-type {\n",
       "        vertical-align: middle;\n",
       "    }\n",
       "\n",
       "    .dataframe tbody tr th {\n",
       "        vertical-align: top;\n",
       "    }\n",
       "\n",
       "    .dataframe thead th {\n",
       "        text-align: right;\n",
       "    }\n",
       "</style>\n",
       "<table border=\"1\" class=\"dataframe\">\n",
       "  <thead>\n",
       "    <tr style=\"text-align: right;\">\n",
       "      <th></th>\n",
       "      <th>X</th>\n",
       "      <th>Y</th>\n",
       "      <th>carbon</th>\n",
       "      <th>h8</th>\n",
       "    </tr>\n",
       "  </thead>\n",
       "  <tbody>\n",
       "    <tr>\n",
       "      <th>0</th>\n",
       "      <td>-142.994522</td>\n",
       "      <td>68.074684</td>\n",
       "      <td>101</td>\n",
       "      <td>880d46d455fffff</td>\n",
       "    </tr>\n",
       "    <tr>\n",
       "      <th>1</th>\n",
       "      <td>-141.603928</td>\n",
       "      <td>67.888733</td>\n",
       "      <td>107</td>\n",
       "      <td>880d444a87fffff</td>\n",
       "    </tr>\n",
       "    <tr>\n",
       "      <th>2</th>\n",
       "      <td>-142.646881</td>\n",
       "      <td>67.861786</td>\n",
       "      <td>104</td>\n",
       "      <td>880d468d55fffff</td>\n",
       "    </tr>\n",
       "    <tr>\n",
       "      <th>3</th>\n",
       "      <td>-142.242630</td>\n",
       "      <td>67.853699</td>\n",
       "      <td>117</td>\n",
       "      <td>880d4685c5fffff</td>\n",
       "    </tr>\n",
       "    <tr>\n",
       "      <th>4</th>\n",
       "      <td>-142.689987</td>\n",
       "      <td>67.848305</td>\n",
       "      <td>108</td>\n",
       "      <td>880d468d07fffff</td>\n",
       "    </tr>\n",
       "  </tbody>\n",
       "</table>\n",
       "</div>"
      ],
      "text/plain": [
       "            X          Y  carbon               h8\n",
       "0 -142.994522  68.074684     101  880d46d455fffff\n",
       "1 -141.603928  67.888733     107  880d444a87fffff\n",
       "2 -142.646881  67.861786     104  880d468d55fffff\n",
       "3 -142.242630  67.853699     117  880d4685c5fffff\n",
       "4 -142.689987  67.848305     108  880d468d07fffff"
      ]
     },
     "execution_count": 5,
     "metadata": {},
     "output_type": "execute_result"
    }
   ],
   "source": [
    "# test read\n",
    "con.read_parquet(\"s3://public-carbon/hex/us-vulnerable-total-carbon-2018-h8.parquet\").filter(_.carbon > 100).head().execute()\n"
   ]
  }
 ],
 "metadata": {
  "kernelspec": {
   "display_name": "Python 3 (ipykernel)",
   "language": "python",
   "name": "python3"
  },
  "language_info": {
   "codemirror_mode": {
    "name": "ipython",
    "version": 3
   },
   "file_extension": ".py",
   "mimetype": "text/x-python",
   "name": "python",
   "nbconvert_exporter": "python",
   "pygments_lexer": "ipython3",
   "version": "3.12.10"
  }
 },
 "nbformat": 4,
 "nbformat_minor": 5
}
