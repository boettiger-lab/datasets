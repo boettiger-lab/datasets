{
 "cells": [
  {
   "cell_type": "code",
   "execution_count": 6,
   "id": "a3293419-9342-4e0f-9b73-93a056d9c5fc",
   "metadata": {},
   "outputs": [
    {
     "data": {
      "text/plain": [
       "<duckdb.duckdb.DuckDBPyConnection at 0x72a36ed4c1b0>"
      ]
     },
     "execution_count": 6,
     "metadata": {},
     "output_type": "execute_result"
    }
   ],
   "source": [
    "import ibis\n",
    "from ibis import _\n",
    "import pathlib\n",
    "from cng.utils import *\n",
    "duckdb_install_h3()\n",
    "\n",
    "con = ibis.duckdb.connect(extensions = [\"spatial\", \"h3\"])\n",
    "set_secrets(con)\n",
    "\n",
    "con.raw_sql(\"SET threads = 2;\")"
   ]
  },
  {
   "cell_type": "code",
   "execution_count": 7,
   "id": "d13838bd-3a98-4cfe-855c-85580e56623e",
   "metadata": {},
   "outputs": [],
   "source": [
    "\n",
    "congress_code = \"119\"  # 119th Congress\n",
    "states = con.read_geo(\"/vsizip//vsicurl/https://www2.census.gov/geo/tiger/TIGER2024/STATE/tl_2024_us_state.zip\")\n",
    "state_fips = states.select(\"STATEFP\").order_by(_.STATEFP).execute()[\"STATEFP\"]\n",
    "\n",
    "def generate_urls(congress_code, state_fips):\n",
    "    base_url = f\"https://www2.census.gov/geo/tiger/TIGER2024/CD/tl_2024_\"\n",
    "    extension = f\"_cd{congress_code}.zip\"\n",
    "    return [base_url + state_code + extension for state_code in state_fips]\n",
    "\n",
    "## for some reason these won't stream\n",
    "state_fips = state_fips[state_fips != '45']\n",
    "state_fips = state_fips[state_fips != '60']"
   ]
  },
  {
   "cell_type": "code",
   "execution_count": 8,
   "id": "640042a8-9b5b-404a-a57a-3c885c3d2514",
   "metadata": {
    "scrolled": true
   },
   "outputs": [],
   "source": [
    "urls = generate_urls(congress_code, state_fips)\n",
    "for url in urls:\n",
    "    vurl = \"/vsizip//vsicurl/\" + url\n",
    "    dest = \"data/\" + pathlib.Path(vurl).with_suffix(\".parquet\").name\n",
    "    # print(dest)\n",
    "    con.read_geo(vurl).to_parquet(dest)\n",
    "    "
   ]
  },
  {
   "cell_type": "code",
   "execution_count": 11,
   "id": "557f316d-4a3e-4041-ad13-d9a454fd9cbf",
   "metadata": {},
   "outputs": [],
   "source": [
    "con.read_geo(\"/vsizip/tl_2024_45_cd119.zip\").to_parquet(\"data/tl_2024_45_cd119.parquet\")\n",
    "con.read_geo(\"/vsizip/tl_2024_60_cd119.zip\").to_parquet(\"data/tl_2024_60_cd119.parquet\")"
   ]
  },
  {
   "cell_type": "code",
   "execution_count": 12,
   "id": "6f6dfe9e-fe58-4900-868a-1eba127a789c",
   "metadata": {},
   "outputs": [],
   "source": [
    "\n",
    "df = con.read_parquet(\"data/**\")\n",
    "df.to_parquet(\"s3://public-census/year=2024/CD/cd.parquet\")\n",
    "\n"
   ]
  },
  {
   "cell_type": "code",
   "execution_count": 26,
   "id": "684444b6-c24d-4606-914c-1dfdb78dcb82",
   "metadata": {},
   "outputs": [],
   "source": [
    "\n",
    "import ibis.expr.datatypes as dt\n",
    "@ibis.udf.scalar.builtin\n",
    "def ST_Multi (geom) -> dt.geometry:\n",
    "    ...\n",
    "    \n",
    "def geom_to_cell (df, zoom = 8):\n",
    "    con = df._find_backend() # df.get_backend() ibis >= 10.0\n",
    "\n",
    "    # First make sure we are using multipolygons everywhere and not a mix\n",
    "    cases = ibis.cases(\n",
    "        (df.geom.geometry_type() == 'POLYGON' , ST_Multi(df.geom)),\n",
    "        else_=df.geom,\n",
    "    )\n",
    "    \n",
    "    df = df.mutate(geom = cases)\n",
    "    sql = ibis.to_sql(df)\n",
    "    expr = f'''\n",
    "        WITH t1 AS (\n",
    "        SELECT * EXCLUDE (geom), UNNEST(ST_Dump(ST_GeomFromWKB(geom))).geom AS geom \n",
    "        FROM ({sql})\n",
    "        ) \n",
    "        SELECT *, h3_polygon_wkt_to_cells_string(geom, {zoom}) AS h{zoom}  FROM t1\n",
    "    '''\n",
    "\n",
    "    out = con.sql(expr)\n",
    "    return out\n"
   ]
  },
  {
   "cell_type": "code",
   "execution_count": 27,
   "id": "085421cd-76b3-4313-80dc-9fcbf768f474",
   "metadata": {},
   "outputs": [
    {
     "data": {
      "application/vnd.jupyter.widget-view+json": {
       "model_id": "2c613f02e3174ff4a95f791e8772336b",
       "version_major": 2,
       "version_minor": 0
      },
      "text/plain": [
       "FloatProgress(value=0.0, layout=Layout(width='auto'), style=ProgressStyle(bar_color='black'))"
      ]
     },
     "metadata": {},
     "output_type": "display_data"
    }
   ],
   "source": [
    "\n",
    "df = con.read_parquet(\"data/**\")\n",
    "\n",
    "geom_to_cell(df, 8).to_parquet(\"s3://public-census/year=2024/CD/cd-hex-z8.parquet\")\n",
    "\n"
   ]
  },
  {
   "cell_type": "code",
   "execution_count": 30,
   "id": "0d6507c9-4026-4ae8-9a76-361bafc19e61",
   "metadata": {},
   "outputs": [
    {
     "data": {
      "application/vnd.jupyter.widget-view+json": {
       "model_id": "b69d935d548b49ef8513aaa1379ccab6",
       "version_major": 2,
       "version_minor": 0
      },
      "text/plain": [
       "FloatProgress(value=0.0, layout=Layout(width='auto'), style=ProgressStyle(bar_color='black'))"
      ]
     },
     "metadata": {},
     "output_type": "display_data"
    },
    {
     "ename": "OutOfMemoryException",
     "evalue": "Out of Memory Error: failed to allocate data of size 16.0 MiB (25.5 GiB/25.5 GiB used)",
     "output_type": "error",
     "traceback": [
      "\u001b[31m---------------------------------------------------------------------------\u001b[39m",
      "\u001b[31mOutOfMemoryException\u001b[39m                      Traceback (most recent call last)",
      "\u001b[36mCell\u001b[39m\u001b[36m \u001b[39m\u001b[32mIn[30]\u001b[39m\u001b[32m, line 1\u001b[39m\n\u001b[32m----> \u001b[39m\u001b[32m1\u001b[39m \u001b[43mcon\u001b[49m\u001b[43m.\u001b[49m\u001b[43mread_parquet\u001b[49m\u001b[43m(\u001b[49m\u001b[33;43m\"\u001b[39;49m\u001b[33;43ms3://public-census/year=2024/CD/cd-hex-z8.parquet\u001b[39;49m\u001b[33;43m\"\u001b[39;49m\u001b[43m)\u001b[49m\u001b[43m.\u001b[49m\u001b[43mhead\u001b[49m\u001b[43m(\u001b[49m\u001b[43m)\u001b[49m\u001b[43m.\u001b[49m\u001b[43mmutate\u001b[49m\u001b[43m(\u001b[49m\u001b[43mh8\u001b[49m\u001b[43m \u001b[49m\u001b[43m=\u001b[49m\u001b[43m \u001b[49m\u001b[43m_\u001b[49m\u001b[43m.\u001b[49m\u001b[43mh8\u001b[49m\u001b[43m.\u001b[49m\u001b[43munnest\u001b[49m\u001b[43m(\u001b[49m\u001b[43m)\u001b[49m\u001b[43m)\u001b[49m\u001b[43m.\u001b[49m\u001b[43mto_parquet\u001b[49m\u001b[43m(\u001b[49m\u001b[33;43m\"\u001b[39;49m\u001b[33;43mtest.parquet\u001b[39;49m\u001b[33;43m\"\u001b[39;49m\u001b[43m)\u001b[49m\n",
      "\u001b[36mFile \u001b[39m\u001b[32m/opt/conda/lib/python3.12/site-packages/ibis/expr/types/core.py:699\u001b[39m, in \u001b[36mExpr.to_parquet\u001b[39m\u001b[34m(self, path, params, **kwargs)\u001b[39m\n\u001b[32m    653\u001b[39m \u001b[38;5;129m@experimental\u001b[39m\n\u001b[32m    654\u001b[39m \u001b[38;5;28;01mdef\u001b[39;00m\u001b[38;5;250m \u001b[39m\u001b[34mto_parquet\u001b[39m(\n\u001b[32m    655\u001b[39m     \u001b[38;5;28mself\u001b[39m,\n\u001b[32m   (...)\u001b[39m\u001b[32m    660\u001b[39m     **kwargs: Any,\n\u001b[32m    661\u001b[39m ) -> \u001b[38;5;28;01mNone\u001b[39;00m:\n\u001b[32m    662\u001b[39m \u001b[38;5;250m    \u001b[39m\u001b[33;03m\"\"\"Write the results of executing the given expression to a parquet file.\u001b[39;00m\n\u001b[32m    663\u001b[39m \n\u001b[32m    664\u001b[39m \u001b[33;03m    This method is eager and will execute the associated expression\u001b[39;00m\n\u001b[32m   (...)\u001b[39m\u001b[32m    697\u001b[39m \u001b[33;03m    :::\u001b[39;00m\n\u001b[32m    698\u001b[39m \u001b[33;03m    \"\"\"\u001b[39;00m\n\u001b[32m--> \u001b[39m\u001b[32m699\u001b[39m     \u001b[38;5;28;43mself\u001b[39;49m\u001b[43m.\u001b[49m\u001b[43m_find_backend\u001b[49m\u001b[43m(\u001b[49m\u001b[43muse_default\u001b[49m\u001b[43m=\u001b[49m\u001b[38;5;28;43;01mTrue\u001b[39;49;00m\u001b[43m)\u001b[49m\u001b[43m.\u001b[49m\u001b[43mto_parquet\u001b[49m\u001b[43m(\u001b[49m\n\u001b[32m    700\u001b[39m \u001b[43m        \u001b[49m\u001b[38;5;28;43mself\u001b[39;49m\u001b[43m,\u001b[49m\u001b[43m \u001b[49m\u001b[43mpath\u001b[49m\u001b[43m,\u001b[49m\u001b[43m \u001b[49m\u001b[43mparams\u001b[49m\u001b[43m=\u001b[49m\u001b[43mparams\u001b[49m\u001b[43m,\u001b[49m\u001b[43m \u001b[49m\u001b[43m*\u001b[49m\u001b[43m*\u001b[49m\u001b[43mkwargs\u001b[49m\n\u001b[32m    701\u001b[39m \u001b[43m    \u001b[49m\u001b[43m)\u001b[49m\n",
      "\u001b[36mFile \u001b[39m\u001b[32m/opt/conda/lib/python3.12/site-packages/ibis/backends/duckdb/__init__.py:1553\u001b[39m, in \u001b[36mBackend.to_parquet\u001b[39m\u001b[34m(self, expr, path, params, **kwargs)\u001b[39m\n\u001b[32m   1551\u001b[39m args = [\u001b[33m\"\u001b[39m\u001b[33mFORMAT \u001b[39m\u001b[33m'\u001b[39m\u001b[33mparquet\u001b[39m\u001b[33m'\u001b[39m\u001b[33m\"\u001b[39m, *(\u001b[33mf\u001b[39m\u001b[33m\"\u001b[39m\u001b[38;5;132;01m{\u001b[39;00mk.upper()\u001b[38;5;132;01m}\u001b[39;00m\u001b[33m \u001b[39m\u001b[38;5;132;01m{\u001b[39;00mv\u001b[38;5;132;01m!r}\u001b[39;00m\u001b[33m\"\u001b[39m \u001b[38;5;28;01mfor\u001b[39;00m k, v \u001b[38;5;129;01min\u001b[39;00m kwargs.items())]\n\u001b[32m   1552\u001b[39m copy_cmd = \u001b[33mf\u001b[39m\u001b[33m\"\u001b[39m\u001b[33mCOPY (\u001b[39m\u001b[38;5;132;01m{\u001b[39;00mquery\u001b[38;5;132;01m}\u001b[39;00m\u001b[33m) TO \u001b[39m\u001b[38;5;132;01m{\u001b[39;00m\u001b[38;5;28mstr\u001b[39m(path)\u001b[38;5;132;01m!r}\u001b[39;00m\u001b[33m (\u001b[39m\u001b[38;5;132;01m{\u001b[39;00m\u001b[33m'\u001b[39m\u001b[33m, \u001b[39m\u001b[33m'\u001b[39m.join(args)\u001b[38;5;132;01m}\u001b[39;00m\u001b[33m)\u001b[39m\u001b[33m\"\u001b[39m\n\u001b[32m-> \u001b[39m\u001b[32m1553\u001b[39m \u001b[38;5;28;01mwith\u001b[39;00m \u001b[38;5;28mself\u001b[39m._safe_raw_sql(copy_cmd):\n\u001b[32m   1554\u001b[39m     \u001b[38;5;28;01mpass\u001b[39;00m\n",
      "\u001b[36mFile \u001b[39m\u001b[32m/opt/conda/lib/python3.12/contextlib.py:137\u001b[39m, in \u001b[36m_GeneratorContextManager.__enter__\u001b[39m\u001b[34m(self)\u001b[39m\n\u001b[32m    135\u001b[39m \u001b[38;5;28;01mdel\u001b[39;00m \u001b[38;5;28mself\u001b[39m.args, \u001b[38;5;28mself\u001b[39m.kwds, \u001b[38;5;28mself\u001b[39m.func\n\u001b[32m    136\u001b[39m \u001b[38;5;28;01mtry\u001b[39;00m:\n\u001b[32m--> \u001b[39m\u001b[32m137\u001b[39m     \u001b[38;5;28;01mreturn\u001b[39;00m \u001b[38;5;28;43mnext\u001b[39;49m\u001b[43m(\u001b[49m\u001b[38;5;28;43mself\u001b[39;49m\u001b[43m.\u001b[49m\u001b[43mgen\u001b[49m\u001b[43m)\u001b[49m\n\u001b[32m    138\u001b[39m \u001b[38;5;28;01mexcept\u001b[39;00m \u001b[38;5;167;01mStopIteration\u001b[39;00m:\n\u001b[32m    139\u001b[39m     \u001b[38;5;28;01mraise\u001b[39;00m \u001b[38;5;167;01mRuntimeError\u001b[39;00m(\u001b[33m\"\u001b[39m\u001b[33mgenerator didn\u001b[39m\u001b[33m'\u001b[39m\u001b[33mt yield\u001b[39m\u001b[33m\"\u001b[39m) \u001b[38;5;28;01mfrom\u001b[39;00m\u001b[38;5;250m \u001b[39m\u001b[38;5;28;01mNone\u001b[39;00m\n",
      "\u001b[36mFile \u001b[39m\u001b[32m/opt/conda/lib/python3.12/site-packages/ibis/backends/duckdb/__init__.py:321\u001b[39m, in \u001b[36mBackend._safe_raw_sql\u001b[39m\u001b[34m(self, *args, **kwargs)\u001b[39m\n\u001b[32m    319\u001b[39m \u001b[38;5;129m@contextlib\u001b[39m.contextmanager\n\u001b[32m    320\u001b[39m \u001b[38;5;28;01mdef\u001b[39;00m\u001b[38;5;250m \u001b[39m\u001b[34m_safe_raw_sql\u001b[39m(\u001b[38;5;28mself\u001b[39m, *args, **kwargs):\n\u001b[32m--> \u001b[39m\u001b[32m321\u001b[39m     \u001b[38;5;28;01myield\u001b[39;00m \u001b[38;5;28;43mself\u001b[39;49m\u001b[43m.\u001b[49m\u001b[43mraw_sql\u001b[49m\u001b[43m(\u001b[49m\u001b[43m*\u001b[49m\u001b[43margs\u001b[49m\u001b[43m,\u001b[49m\u001b[43m \u001b[49m\u001b[43m*\u001b[49m\u001b[43m*\u001b[49m\u001b[43mkwargs\u001b[49m\u001b[43m)\u001b[49m\n",
      "\u001b[36mFile \u001b[39m\u001b[32m/opt/conda/lib/python3.12/site-packages/ibis/backends/duckdb/__init__.py:93\u001b[39m, in \u001b[36mBackend.raw_sql\u001b[39m\u001b[34m(self, query, **kwargs)\u001b[39m\n\u001b[32m     91\u001b[39m \u001b[38;5;28;01mwith\u001b[39;00m contextlib.suppress(\u001b[38;5;167;01mAttributeError\u001b[39;00m):\n\u001b[32m     92\u001b[39m     query = query.sql(dialect=\u001b[38;5;28mself\u001b[39m.name)\n\u001b[32m---> \u001b[39m\u001b[32m93\u001b[39m \u001b[38;5;28;01mreturn\u001b[39;00m \u001b[38;5;28;43mself\u001b[39;49m\u001b[43m.\u001b[49m\u001b[43mcon\u001b[49m\u001b[43m.\u001b[49m\u001b[43mexecute\u001b[49m\u001b[43m(\u001b[49m\u001b[43mquery\u001b[49m\u001b[43m,\u001b[49m\u001b[43m \u001b[49m\u001b[43m*\u001b[49m\u001b[43m*\u001b[49m\u001b[43mkwargs\u001b[49m\u001b[43m)\u001b[49m\n",
      "\u001b[31mOutOfMemoryException\u001b[39m: Out of Memory Error: failed to allocate data of size 16.0 MiB (25.5 GiB/25.5 GiB used)"
     ]
    }
   ],
   "source": [
    "con.read_parquet(\"s3://public-census/year=2024/CD/cd-hex-z8.parquet\").head().mutate(h8 = _.h8.unnest()).to_parquet(\"test.parquet\")"
   ]
  },
  {
   "cell_type": "code",
   "execution_count": null,
   "id": "52acb81b-0d1e-441b-9018-836405416a11",
   "metadata": {},
   "outputs": [],
   "source": [
    "\n"
   ]
  }
 ],
 "metadata": {
  "kernelspec": {
   "display_name": "Python 3 (ipykernel)",
   "language": "python",
   "name": "python3"
  },
  "language_info": {
   "codemirror_mode": {
    "name": "ipython",
    "version": 3
   },
   "file_extension": ".py",
   "mimetype": "text/x-python",
   "name": "python",
   "nbconvert_exporter": "python",
   "pygments_lexer": "ipython3",
   "version": "3.12.10"
  }
 },
 "nbformat": 4,
 "nbformat_minor": 5
}
