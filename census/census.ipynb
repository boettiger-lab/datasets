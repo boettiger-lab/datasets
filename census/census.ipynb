{
 "cells": [
  {
   "cell_type": "code",
   "execution_count": 6,
   "id": "a3293419-9342-4e0f-9b73-93a056d9c5fc",
   "metadata": {},
   "outputs": [
    {
     "data": {
      "text/plain": [
       "<duckdb.duckdb.DuckDBPyConnection at 0x72a36ed4c1b0>"
      ]
     },
     "execution_count": 6,
     "metadata": {},
     "output_type": "execute_result"
    }
   ],
   "source": [
    "import ibis\n",
    "from ibis import _\n",
    "import pathlib\n",
    "from cng.utils import *\n",
    "duckdb_install_h3()\n",
    "\n",
    "con = ibis.duckdb.connect(extensions = [\"spatial\", \"h3\"])\n",
    "set_secrets(con)\n",
    "\n",
    "con.raw_sql(\"SET threads = 2;\")"
   ]
  },
  {
   "cell_type": "code",
   "execution_count": 7,
   "id": "d13838bd-3a98-4cfe-855c-85580e56623e",
   "metadata": {},
   "outputs": [],
   "source": [
    "\n",
    "congress_code = \"119\"  # 119th Congress\n",
    "states = con.read_geo(\"/vsizip//vsicurl/https://www2.census.gov/geo/tiger/TIGER2024/STATE/tl_2024_us_state.zip\")\n",
    "state_fips = states.select(\"STATEFP\").order_by(_.STATEFP).execute()[\"STATEFP\"]\n",
    "\n",
    "def generate_urls(congress_code, state_fips):\n",
    "    base_url = f\"https://www2.census.gov/geo/tiger/TIGER2024/CD/tl_2024_\"\n",
    "    extension = f\"_cd{congress_code}.zip\"\n",
    "    return [base_url + state_code + extension for state_code in state_fips]\n",
    "\n",
    "## for some reason these won't stream\n",
    "state_fips = state_fips[state_fips != '45']\n",
    "state_fips = state_fips[state_fips != '60']"
   ]
  },
  {
   "cell_type": "code",
   "execution_count": 8,
   "id": "640042a8-9b5b-404a-a57a-3c885c3d2514",
   "metadata": {
    "scrolled": true
   },
   "outputs": [],
   "source": [
    "urls = generate_urls(congress_code, state_fips)\n",
    "for url in urls:\n",
    "    vurl = \"/vsizip//vsicurl/\" + url\n",
    "    dest = \"data/\" + pathlib.Path(vurl).with_suffix(\".parquet\").name\n",
    "    # print(dest)\n",
    "    con.read_geo(vurl).to_parquet(dest)\n",
    "    "
   ]
  },
  {
   "cell_type": "code",
   "execution_count": 11,
   "id": "557f316d-4a3e-4041-ad13-d9a454fd9cbf",
   "metadata": {},
   "outputs": [],
   "source": [
    "con.read_geo(\"/vsizip/tl_2024_45_cd119.zip\").to_parquet(\"data/tl_2024_45_cd119.parquet\")\n",
    "con.read_geo(\"/vsizip/tl_2024_60_cd119.zip\").to_parquet(\"data/tl_2024_60_cd119.parquet\")"
   ]
  },
  {
   "cell_type": "code",
   "execution_count": 12,
   "id": "6f6dfe9e-fe58-4900-868a-1eba127a789c",
   "metadata": {},
   "outputs": [],
   "source": [
    "\n",
    "df = con.read_parquet(\"data/**\")\n",
    "df.to_parquet(\"s3://public-census/year=2024/CD/cd.parquet\")\n",
    "\n"
   ]
  },
  {
   "cell_type": "code",
   "execution_count": 26,
   "id": "684444b6-c24d-4606-914c-1dfdb78dcb82",
   "metadata": {},
   "outputs": [],
   "source": [
    "\n",
    "import ibis.expr.datatypes as dt\n",
    "@ibis.udf.scalar.builtin\n",
    "def ST_Multi (geom) -> dt.geometry:\n",
    "    ...\n",
    "    \n",
    "def geom_to_cell (df, zoom = 8):\n",
    "    con = df._find_backend() # df.get_backend() ibis >= 10.0\n",
    "\n",
    "    # First make sure we are using multipolygons everywhere and not a mix\n",
    "    cases = ibis.cases(\n",
    "        (df.geom.geometry_type() == 'POLYGON' , ST_Multi(df.geom)),\n",
    "        else_=df.geom,\n",
    "    )\n",
    "    \n",
    "    df = df.mutate(geom = cases)\n",
    "    sql = ibis.to_sql(df)\n",
    "    expr = f'''\n",
    "        WITH t1 AS (\n",
    "        SELECT * EXCLUDE (geom), UNNEST(ST_Dump(ST_GeomFromWKB(geom))).geom AS geom \n",
    "        FROM ({sql})\n",
    "        ) \n",
    "        SELECT *, h3_polygon_wkt_to_cells_string(geom, {zoom}) AS h{zoom}  FROM t1\n",
    "    '''\n",
    "\n",
    "    out = con.sql(expr)\n",
    "    return out\n"
   ]
  },
  {
   "cell_type": "code",
   "execution_count": 27,
   "id": "085421cd-76b3-4313-80dc-9fcbf768f474",
   "metadata": {},
   "outputs": [
    {
     "data": {
      "application/vnd.jupyter.widget-view+json": {
       "model_id": "2c613f02e3174ff4a95f791e8772336b",
       "version_major": 2,
       "version_minor": 0
      },
      "text/plain": [
       "FloatProgress(value=0.0, layout=Layout(width='auto'), style=ProgressStyle(bar_color='black'))"
      ]
     },
     "metadata": {},
     "output_type": "display_data"
    }
   ],
   "source": [
    "\n",
    "df = con.read_parquet(\"data/**\")\n",
    "\n",
    "geom_to_cell(df, 8).to_parquet(\"s3://public-census/year=2024/CD/cd-hex-z8.parquet\")\n",
    "\n"
   ]
  },
  {
   "cell_type": "code",
   "execution_count": 28,
   "id": "0d6507c9-4026-4ae8-9a76-361bafc19e61",
   "metadata": {},
   "outputs": [
    {
     "data": {
      "application/vnd.jupyter.widget-view+json": {
       "model_id": "dc421e66bc4a4c4e8dfa6fc58213c0ca",
       "version_major": 2,
       "version_minor": 0
      },
      "text/plain": [
       "FloatProgress(value=0.0, layout=Layout(width='auto'), style=ProgressStyle(bar_color='black'))"
      ]
     },
     "metadata": {},
     "output_type": "display_data"
    },
    {
     "data": {
      "text/html": [
       "<div>\n",
       "<style scoped>\n",
       "    .dataframe tbody tr th:only-of-type {\n",
       "        vertical-align: middle;\n",
       "    }\n",
       "\n",
       "    .dataframe tbody tr th {\n",
       "        vertical-align: top;\n",
       "    }\n",
       "\n",
       "    .dataframe thead th {\n",
       "        text-align: right;\n",
       "    }\n",
       "</style>\n",
       "<table border=\"1\" class=\"dataframe\">\n",
       "  <thead>\n",
       "    <tr style=\"text-align: right;\">\n",
       "      <th></th>\n",
       "      <th>STATEFP</th>\n",
       "      <th>CD119FP</th>\n",
       "      <th>GEOID</th>\n",
       "      <th>GEOIDFQ</th>\n",
       "      <th>NAMELSAD</th>\n",
       "      <th>LSAD</th>\n",
       "      <th>CDSESSN</th>\n",
       "      <th>MTFCC</th>\n",
       "      <th>FUNCSTAT</th>\n",
       "      <th>ALAND</th>\n",
       "      <th>AWATER</th>\n",
       "      <th>INTPTLAT</th>\n",
       "      <th>INTPTLON</th>\n",
       "      <th>geom</th>\n",
       "      <th>h8</th>\n",
       "      <th>year</th>\n",
       "    </tr>\n",
       "  </thead>\n",
       "  <tbody>\n",
       "    <tr>\n",
       "      <th>0</th>\n",
       "      <td>01</td>\n",
       "      <td>01</td>\n",
       "      <td>0101</td>\n",
       "      <td>5001900US0101</td>\n",
       "      <td>Congressional District 1</td>\n",
       "      <td>C2</td>\n",
       "      <td>119</td>\n",
       "      <td>G5200</td>\n",
       "      <td>N</td>\n",
       "      <td>18753464839</td>\n",
       "      <td>2274273696</td>\n",
       "      <td>+31.0328895</td>\n",
       "      <td>-086.7989750</td>\n",
       "      <td>POLYGON ((-88.41482 30.78562, -88.41444 30.785...</td>\n",
       "      <td>[884452ab33fffff, 8844e1b8c5fffff, 8844508811f...</td>\n",
       "      <td>2024</td>\n",
       "    </tr>\n",
       "    <tr>\n",
       "      <th>1</th>\n",
       "      <td>01</td>\n",
       "      <td>02</td>\n",
       "      <td>0102</td>\n",
       "      <td>5001900US0102</td>\n",
       "      <td>Congressional District 2</td>\n",
       "      <td>C2</td>\n",
       "      <td>119</td>\n",
       "      <td>G5200</td>\n",
       "      <td>N</td>\n",
       "      <td>24514317067</td>\n",
       "      <td>234734076</td>\n",
       "      <td>+31.7619148</td>\n",
       "      <td>-086.6281876</td>\n",
       "      <td>POLYGON ((-88.46443 31.69795, -88.46418 31.697...</td>\n",
       "      <td>[8844ecd443fffff, 8844ec9037fffff, 884453c337f...</td>\n",
       "      <td>2024</td>\n",
       "    </tr>\n",
       "    <tr>\n",
       "      <th>2</th>\n",
       "      <td>01</td>\n",
       "      <td>03</td>\n",
       "      <td>0103</td>\n",
       "      <td>5001900US0103</td>\n",
       "      <td>Congressional District 3</td>\n",
       "      <td>C2</td>\n",
       "      <td>119</td>\n",
       "      <td>G5200</td>\n",
       "      <td>N</td>\n",
       "      <td>17327582348</td>\n",
       "      <td>466368976</td>\n",
       "      <td>+33.4140097</td>\n",
       "      <td>-085.7577724</td>\n",
       "      <td>POLYGON ((-86.5778 33.76652, -86.5778 33.76831...</td>\n",
       "      <td>[8844eb4293fffff, 8844eaa8e3fffff, 8844ee6707f...</td>\n",
       "      <td>2024</td>\n",
       "    </tr>\n",
       "    <tr>\n",
       "      <th>3</th>\n",
       "      <td>01</td>\n",
       "      <td>04</td>\n",
       "      <td>0104</td>\n",
       "      <td>5001900US0104</td>\n",
       "      <td>Congressional District 4</td>\n",
       "      <td>C2</td>\n",
       "      <td>119</td>\n",
       "      <td>G5200</td>\n",
       "      <td>N</td>\n",
       "      <td>22351892592</td>\n",
       "      <td>578754652</td>\n",
       "      <td>+34.1302579</td>\n",
       "      <td>-087.2816902</td>\n",
       "      <td>POLYGON ((-88.27459 33.53425, -88.2745 33.5349...</td>\n",
       "      <td>[8844ed214bfffff, 8844ebad39fffff, 8844eb3133f...</td>\n",
       "      <td>2024</td>\n",
       "    </tr>\n",
       "    <tr>\n",
       "      <th>4</th>\n",
       "      <td>01</td>\n",
       "      <td>05</td>\n",
       "      <td>0105</td>\n",
       "      <td>5001900US0105</td>\n",
       "      <td>Congressional District 5</td>\n",
       "      <td>C2</td>\n",
       "      <td>119</td>\n",
       "      <td>G5200</td>\n",
       "      <td>N</td>\n",
       "      <td>10105546447</td>\n",
       "      <td>427050369</td>\n",
       "      <td>+34.6916846</td>\n",
       "      <td>-086.6808412</td>\n",
       "      <td>POLYGON ((-86.15427 34.53026, -86.15425 34.532...</td>\n",
       "      <td>[8844eb2b29fffff]</td>\n",
       "      <td>2024</td>\n",
       "    </tr>\n",
       "  </tbody>\n",
       "</table>\n",
       "</div>"
      ],
      "text/plain": [
       "  STATEFP CD119FP GEOID        GEOIDFQ                  NAMELSAD LSAD CDSESSN  \\\n",
       "0      01      01  0101  5001900US0101  Congressional District 1   C2     119   \n",
       "1      01      02  0102  5001900US0102  Congressional District 2   C2     119   \n",
       "2      01      03  0103  5001900US0103  Congressional District 3   C2     119   \n",
       "3      01      04  0104  5001900US0104  Congressional District 4   C2     119   \n",
       "4      01      05  0105  5001900US0105  Congressional District 5   C2     119   \n",
       "\n",
       "   MTFCC FUNCSTAT        ALAND      AWATER     INTPTLAT      INTPTLON  \\\n",
       "0  G5200        N  18753464839  2274273696  +31.0328895  -086.7989750   \n",
       "1  G5200        N  24514317067   234734076  +31.7619148  -086.6281876   \n",
       "2  G5200        N  17327582348   466368976  +33.4140097  -085.7577724   \n",
       "3  G5200        N  22351892592   578754652  +34.1302579  -087.2816902   \n",
       "4  G5200        N  10105546447   427050369  +34.6916846  -086.6808412   \n",
       "\n",
       "                                                geom  \\\n",
       "0  POLYGON ((-88.41482 30.78562, -88.41444 30.785...   \n",
       "1  POLYGON ((-88.46443 31.69795, -88.46418 31.697...   \n",
       "2  POLYGON ((-86.5778 33.76652, -86.5778 33.76831...   \n",
       "3  POLYGON ((-88.27459 33.53425, -88.2745 33.5349...   \n",
       "4  POLYGON ((-86.15427 34.53026, -86.15425 34.532...   \n",
       "\n",
       "                                                  h8  year  \n",
       "0  [884452ab33fffff, 8844e1b8c5fffff, 8844508811f...  2024  \n",
       "1  [8844ecd443fffff, 8844ec9037fffff, 884453c337f...  2024  \n",
       "2  [8844eb4293fffff, 8844eaa8e3fffff, 8844ee6707f...  2024  \n",
       "3  [8844ed214bfffff, 8844ebad39fffff, 8844eb3133f...  2024  \n",
       "4                                  [8844eb2b29fffff]  2024  "
      ]
     },
     "execution_count": 28,
     "metadata": {},
     "output_type": "execute_result"
    }
   ],
   "source": [
    "con.read_parquet(\"s3://public-census/year=2024/CD/cd-hex-z8.parquet\").head().execute()"
   ]
  },
  {
   "cell_type": "code",
   "execution_count": null,
   "id": "52acb81b-0d1e-441b-9018-836405416a11",
   "metadata": {},
   "outputs": [],
   "source": [
    "\n"
   ]
  }
 ],
 "metadata": {
  "kernelspec": {
   "display_name": "Python 3 (ipykernel)",
   "language": "python",
   "name": "python3"
  },
  "language_info": {
   "codemirror_mode": {
    "name": "ipython",
    "version": 3
   },
   "file_extension": ".py",
   "mimetype": "text/x-python",
   "name": "python",
   "nbconvert_exporter": "python",
   "pygments_lexer": "ipython3",
   "version": "3.12.10"
  }
 },
 "nbformat": 4,
 "nbformat_minor": 5
}
