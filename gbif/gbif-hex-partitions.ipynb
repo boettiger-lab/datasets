{
 "cells": [
  {
   "cell_type": "code",
   "execution_count": null,
   "id": "ed794ca2-f226-4a38-8533-9a78f2aa8e77",
   "metadata": {},
   "outputs": [],
   "source": [
    "from cng.utils import set_secrets\n",
    "import ibis\n",
    "from ibis import _\n",
    "from tqdm import tqdm\n"
   ]
  },
  {
   "cell_type": "code",
   "execution_count": null,
   "id": "51cede4e-c45a-41cb-99ae-3e90e3a150da",
   "metadata": {},
   "outputs": [],
   "source": [
    "con = ibis.duckdb.connect(\"tmp.duckdb\")\n",
    "con.raw_sql(\"SET enable_progress_bar = false\")\n",
    "con.raw_sql(\"SET memory_limit = '50GB';\")\n",
    "\n",
    "set_secrets(con) \n",
    "\n",
    "gbif = con.read_parquet(\"s3://public-gbif/2024-10-01/**\")"
   ]
  },
  {
   "cell_type": "code",
   "execution_count": null,
   "id": "aa1204c8-a70e-4865-b0b5-cdbf0ed0e55f",
   "metadata": {},
   "outputs": [],
   "source": [
    "lvl = \"h0\" \n",
    "hex_sets = gbif.group_by(_[lvl]).agg(n = _.count()).order_by(_.n.desc()).execute()[lvl]"
   ]
  },
  {
   "cell_type": "code",
   "execution_count": null,
   "id": "3b00034b-c4dd-4cc3-aa7f-3793912a4a40",
   "metadata": {
    "scrolled": true
   },
   "outputs": [],
   "source": [
    "for hexid in tqdm(hex_sets):\n",
    "    gbif.filter(_[lvl] == hexid).to_parquet(f\"s3://public-gbif/hex/{lvl}={hexid}/part0.parquet\")"
   ]
  },
  {
   "cell_type": "code",
   "execution_count": null,
   "id": "2f1276a7-c372-4bde-8c4a-90d167a2791e",
   "metadata": {},
   "outputs": [],
   "source": [
    "## resume with the missing hexes if necessary...\n",
    "# done = con.read_parquet(\"s3://public-gbif/hexid/**\").select(lvl).distinct()\n",
    "# hex_sets = gbif.group_by(_[lvl]).agg(n = _.count()).anti_join(done, lvl).order_by(_.n.desc()).execute()[lvl]"
   ]
  }
 ],
 "metadata": {
  "kernelspec": {
   "display_name": "Python 3 (ipykernel)",
   "language": "python",
   "name": "python3"
  },
  "language_info": {
   "codemirror_mode": {
    "name": "ipython",
    "version": 3
   },
   "file_extension": ".py",
   "mimetype": "text/x-python",
   "name": "python",
   "nbconvert_exporter": "python",
   "pygments_lexer": "ipython3",
   "version": "3.12.10"
  }
 },
 "nbformat": 4,
 "nbformat_minor": 5
}
